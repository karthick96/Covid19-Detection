{
 "cells": [
  {
   "cell_type": "code",
   "execution_count": 23,
   "id": "d45d22e0",
   "metadata": {},
   "outputs": [],
   "source": [
    "import matplotlib.pyplot as plt\n",
    "import tensorflow as tf\n",
    "import numpy as np\n",
    "import pandas as pd\n",
    "import matplotlib.pyplot as plt\n",
    "import matplotlib.image as mpimg\n",
    "import seaborn as sns\n",
    "from PIL import Image\n",
    "#!pip install scikit-image\n",
    "from skimage.transform import resize\n",
    "import os\n",
    "import glob\n",
    "from tensorflow.keras.preprocessing.image import ImageDataGenerator\n",
    "#!pip install scikit-learn\n",
    "from sklearn.model_selection import train_test_split\n",
    "from tensorflow.keras.models import Sequential, Model\n",
    "from tensorflow.keras import layers\n",
    "from tensorflow.keras.layers import Dense, Dropout, Flatten, BatchNormalization, Conv2D, MaxPooling2D, Lambda, Input\n",
    "from tensorflow.keras.applications import DenseNet121,VGG16,VGG19,ResNet50,ResNet152V2\n",
    "from tensorflow.keras.applications.densenet import preprocess_input\n",
    "from tensorflow.keras.callbacks import ModelCheckpoint\n",
    "from tensorflow.keras.utils import to_categorical\n",
    "from tensorflow.keras.datasets import mnist\n",
    "from tensorflow.keras.initializers import HeUniform, VarianceScaling\n",
    "from sklearn.metrics import confusion_matrix, accuracy_score, precision_score, f1_score, recall_score\n",
    "#!pip install progressbar\n",
    "import progressbar\n",
    "#from pathlib import Path"
   ]
  },
  {
   "cell_type": "code",
   "execution_count": 9,
   "id": "a2f88c5c",
   "metadata": {},
   "outputs": [],
   "source": [
    "def load_data(category, path, img_size=(32, 32)):\n",
    "    #Variables\n",
    "    \n",
    "    corrupted={\"count\" : 0, \"image_name\" : [], \"label\" : []}\n",
    "    Image_count = 0  \n",
    "    Image_dir=[None]*len(category)\n",
    "    \n",
    "    for i in category.keys():\n",
    "             Image_dir[category[i]]=glob.glob(path+i+\"/*.png\")        \n",
    "        \n",
    "    for idx, j in enumerate(Image_dir):\n",
    "        for img in j:\n",
    "            try:\n",
    "                mpimg.imread(img)\n",
    "            except:\n",
    "                corrupted[\"count\"] += 1\n",
    "                corrupted[\"image_name\"].append(img)\n",
    "                corrupted[\"label\"].append(idx)\n",
    "            else:\n",
    "                Image_count+=1\n",
    "            \n",
    "    for img, label in zip(corrupted['image_name'], corrupted[\"label\"]):\n",
    "            Image_dir[label].remove(img)\n",
    "        \n",
    "    Images = np.empty((Image_count, img_size[0], img_size[1], 3), dtype=np.float32)\n",
    "    labels = np.empty((Image_count), dtype=\"int\")\n",
    "            \n",
    "    c=0       \n",
    "    for idx, k in enumerate(Image_dir):\n",
    "            for img in k:\n",
    "                Images[c] = resize(mpimg.imread(img), (img_size[0], img_size[1], 3), anti_aliasing=True)\n",
    "                labels[c] = idx\n",
    "                c+=1\n",
    "                \n",
    "    return Images, labels"
   ]
  },
  {
   "cell_type": "code",
   "execution_count": 10,
   "id": "1d1b46a1",
   "metadata": {},
   "outputs": [],
   "source": [
    "path = 'D:/Data Analytics for Business/DAB Semester-3/DAB 304 - Healthcare Analytics/DAB 304 - Final Project material/archive (1)/curated_data/curated_data/'\n",
    "category = {\"1NonCOVID\":0,\"2COVID\":1,\"3CAP\":2}\n",
    "img_size = (224, 224)"
   ]
  },
  {
   "cell_type": "code",
   "execution_count": 11,
   "id": "295df585",
   "metadata": {},
   "outputs": [],
   "source": [
    "X, y = load_data(category, path, img_size)"
   ]
  },
  {
   "cell_type": "code",
   "execution_count": 12,
   "id": "0471173f",
   "metadata": {},
   "outputs": [
    {
     "data": {
      "text/plain": [
       "(17067, 224, 224, 3)"
      ]
     },
     "execution_count": 12,
     "metadata": {},
     "output_type": "execute_result"
    }
   ],
   "source": [
    "X.shape"
   ]
  },
  {
   "cell_type": "code",
   "execution_count": 13,
   "id": "1da3da0f",
   "metadata": {},
   "outputs": [],
   "source": [
    "X_train, X_test, y_train, y_test = train_test_split(X,\n",
    "                                                    y,\n",
    "                                                    test_size=0.2,\n",
    "                                                    stratify = y,\n",
    "                                                    random_state=1)"
   ]
  },
  {
   "cell_type": "code",
   "execution_count": 26,
   "id": "e4a29b50",
   "metadata": {},
   "outputs": [
    {
     "name": "stdout",
     "output_type": "stream",
     "text": [
      "Model: \"model_3\"\n",
      "_________________________________________________________________\n",
      "Layer (type)                 Output Shape              Param #   \n",
      "=================================================================\n",
      "input_8 (InputLayer)         [(None, 224, 224, 3)]     0         \n",
      "_________________________________________________________________\n",
      "tf.math.truediv_6 (TFOpLambd (None, 224, 224, 3)       0         \n",
      "_________________________________________________________________\n",
      "tf.nn.bias_add_3 (TFOpLambda (None, 224, 224, 3)       0         \n",
      "_________________________________________________________________\n",
      "tf.math.truediv_7 (TFOpLambd (None, 224, 224, 3)       0         \n",
      "_________________________________________________________________\n",
      "densenet121 (Functional)     (None, None, None, 1024)  7037504   \n",
      "_________________________________________________________________\n",
      "flatten_3 (Flatten)          (None, 50176)             0         \n",
      "_________________________________________________________________\n",
      "dense_3 (Dense)              (None, 3)                 150531    \n",
      "=================================================================\n",
      "Total params: 7,188,035\n",
      "Trainable params: 152,579\n",
      "Non-trainable params: 7,035,456\n",
      "_________________________________________________________________\n"
     ]
    }
   ],
   "source": [
    "# Data Augmentation\n",
    "#data_augmentation = Sequential([\n",
    " #   layers.experimental.preprocessing.RandomFlip(\"horizontal\"),\n",
    "  #  layers.experimental.preprocessing.RandomRotation(0.05),\n",
    "   # layers.experimental.preprocessing.RandomZoom(0.2)])\n",
    "\n",
    "# To clear the session before every run\n",
    "tf.keras.backend.clear_session()\n",
    "    \n",
    "def DenseNet121_model(img_size,\n",
    "                      trainable=False,\n",
    "                      semi_trainable=False,\n",
    "                      hidden_layers=False,\n",
    "                      num_units = 256,\n",
    "                      dropout_rate = 0.5,\n",
    "                      no_layers_trainable = 4,\n",
    "                      optimizer=tf.keras.optimizers.Adam()):\n",
    "    \n",
    "    DenseNet = DenseNet121(weights='imagenet', include_top=False)\n",
    "    DenseNet.trainable = trainable\n",
    "    \n",
    "    if semi_trainable == True:\n",
    "        for layer in DenseNet.layers[:-no_layers_trainable]:\n",
    "            layer.trainable=False\n",
    "\n",
    "    Input_data = Input(shape=(img_size[0], img_size[1], 3))\n",
    "    #x = data_augmentation(Input_data)\n",
    "    x = preprocess_input(Input_data)\n",
    "    x = DenseNet(x)\n",
    "    x = Flatten()(x)\n",
    "    if hidden_layers==True:\n",
    "        x = Dense(num_units)(x)\n",
    "        x = Dropout(dropout_rate)(x)\n",
    "    Output = Dense(3, activation='softmax')(x)\n",
    "    \n",
    "    DenseNet121_model = Model(Input_data, Output)\n",
    "    \n",
    "    #Compiling the model (loss func, optimizer, metrics used)\n",
    "    DenseNet121_model.compile(\n",
    "        loss = \"sparse_categorical_crossentropy\",\n",
    "        optimizer = optimizer,\n",
    "        metrics = [\"accuracy\"]\n",
    "    )\n",
    "\n",
    "    return DenseNet121_model\n",
    "\n",
    "DenseNet121_model = DenseNet121_model(img_size, \n",
    "                                      trainable = True, \n",
    "                                      hidden_layers = False, \n",
    "                                      num_units = 128,\n",
    "                                      dropout_rate = 0.2,\n",
    "                                      semi_trainable = True, \n",
    "                                      no_layers_trainable = 2)\n",
    "DenseNet121_model.summary()"
   ]
  },
  {
   "cell_type": "code",
   "execution_count": 27,
   "id": "bb7a0ecd",
   "metadata": {
    "scrolled": false
   },
   "outputs": [
    {
     "name": "stdout",
     "output_type": "stream",
     "text": [
      "Epoch 1/10\n",
      "86/86 - 73s - loss: 2.8597 - accuracy: 0.6371 - val_loss: 0.8162 - val_accuracy: 0.5214\n",
      "\n",
      "Epoch 00001: val_accuracy improved from -inf to 0.52142, saving model to transfer_model.h5\n",
      "Epoch 2/10\n",
      "86/86 - 54s - loss: 0.4743 - accuracy: 0.8096 - val_loss: 0.5130 - val_accuracy: 0.8330\n",
      "\n",
      "Epoch 00002: val_accuracy improved from 0.52142 to 0.83303, saving model to transfer_model.h5\n",
      "Epoch 3/10\n",
      "86/86 - 55s - loss: 0.5013 - accuracy: 0.8075 - val_loss: 0.4089 - val_accuracy: 0.8451\n",
      "\n",
      "Epoch 00003: val_accuracy improved from 0.83303 to 0.84511, saving model to transfer_model.h5\n",
      "Epoch 4/10\n",
      "86/86 - 56s - loss: 0.3748 - accuracy: 0.8556 - val_loss: 0.5380 - val_accuracy: 0.7272\n",
      "\n",
      "Epoch 00004: val_accuracy did not improve from 0.84511\n",
      "Epoch 5/10\n",
      "86/86 - 56s - loss: 0.4765 - accuracy: 0.8285 - val_loss: 0.3241 - val_accuracy: 0.8707\n",
      "\n",
      "Epoch 00005: val_accuracy improved from 0.84511 to 0.87074, saving model to transfer_model.h5\n",
      "Epoch 6/10\n",
      "86/86 - 57s - loss: 0.3522 - accuracy: 0.8632 - val_loss: 0.2884 - val_accuracy: 0.8799\n",
      "\n",
      "Epoch 00006: val_accuracy improved from 0.87074 to 0.87990, saving model to transfer_model.h5\n",
      "Epoch 7/10\n",
      "86/86 - 56s - loss: 0.3096 - accuracy: 0.8813 - val_loss: 0.3437 - val_accuracy: 0.8850\n",
      "\n",
      "Epoch 00007: val_accuracy improved from 0.87990 to 0.88502, saving model to transfer_model.h5\n",
      "Epoch 8/10\n",
      "86/86 - 56s - loss: 0.3393 - accuracy: 0.8711 - val_loss: 0.5185 - val_accuracy: 0.8502\n",
      "\n",
      "Epoch 00008: val_accuracy did not improve from 0.88502\n",
      "Epoch 9/10\n",
      "86/86 - 58s - loss: 0.3733 - accuracy: 0.8591 - val_loss: 0.6270 - val_accuracy: 0.7744\n",
      "\n",
      "Epoch 00009: val_accuracy did not improve from 0.88502\n",
      "Epoch 10/10\n",
      "86/86 - 58s - loss: 0.4685 - accuracy: 0.8399 - val_loss: 0.3873 - val_accuracy: 0.8700\n",
      "\n",
      "Epoch 00010: val_accuracy did not improve from 0.88502\n"
     ]
    }
   ],
   "source": [
    "filepath = 'transfer_model.h5'\n",
    "BATCH_SIZE = 128\n",
    "lr = 0.01\n",
    "OPTIMIZER = tf.keras.optimizers.Adam()\n",
    "EPOCHS = 10\n",
    "\n",
    "# Creating model checkpoint to save the best parameters based on validation accuracy\n",
    "checkpoint = ModelCheckpoint(filepath = filepath, monitor = 'val_accuracy',save_best_only=True, mode = 'max',verbose = 1)\n",
    "\n",
    "# Fitting the model (training and validation phase in multiple epochs)\n",
    "history = DenseNet121_model.fit(X_train,\n",
    "                    y_train,\n",
    "                    validation_split=0.2,\n",
    "                    epochs=EPOCHS,\n",
    "                    batch_size = BATCH_SIZE,\n",
    "                    verbose = 2,\n",
    "                    callbacks=[checkpoint]\n",
    "                   )"
   ]
  },
  {
   "cell_type": "code",
   "execution_count": 28,
   "id": "38702b2f",
   "metadata": {},
   "outputs": [
    {
     "data": {
      "image/png": "[encoded data removed]",
      "text/plain": [
       "<Figure size 1080x360 with 2 Axes>"
      ]
     },
     "metadata": {
      "needs_background": "light"
     },
     "output_type": "display_data"
    }
   ],
   "source": [
    "def plot_train_val_accuracy_n_loss(history, Range=2.0):\n",
    "    fig, axes = plt.subplots(1, 2, figsize=(15, 5))\n",
    "    \n",
    "    for ax, j in zip(axes, ['accuracy', 'loss']):\n",
    "        # summarize history for accuracy and loss\n",
    "        ax.plot(range(1, len(history.history[j]) + 1), history.history[j])\n",
    "        ax.plot(range(1, len(history.history['val_'+j]) + 1), history.history['val_'+j])\n",
    "        ax.set_title(\"model \"+j)\n",
    "        ax.set_ylabel(j)\n",
    "        ax.set_xlabel('epoch')\n",
    "        ax.set_xticks(np.arange(2,EPOCHS+1, Range))\n",
    "        ax.legend(['train', 'valid'], loc='upper left')\n",
    "    plt.show()\n",
    "        \n",
    "plot_train_val_accuracy_n_loss(history)"
   ]
  },
  {
   "cell_type": "code",
   "execution_count": 29,
   "id": "350d9378",
   "metadata": {},
   "outputs": [
    {
     "data": {
      "image/png": "[encoded data removed]",
      "text/plain": [
       "<Figure size 1080x576 with 2 Axes>"
      ]
     },
     "metadata": {
      "needs_background": "light"
     },
     "output_type": "display_data"
    },
    {
     "name": "stdout",
     "output_type": "stream",
     "text": [
      "Test Accuracy:  0.9001171646162859\n",
      "Test Precision:  0.9001171646162859\n",
      "Test Recall:  0.9001171646162859\n",
      "Test F1-Score:  0.9001171646162859\n"
     ]
    }
   ],
   "source": [
    "model = tf.keras.models.load_model(\"transfer_model.h5\")\n",
    "\n",
    "# Changinge one hot encoded data back to labels\n",
    "y_pred = np.argmax(model.predict(X_test), axis=1) \n",
    "y_true = y_test\n",
    "\n",
    "# Class Labels\n",
    "class_names = ['Healthy', 'Covid', 'Pneumonia']\n",
    "\n",
    "# Plotting Confusion matrix\n",
    "cm = confusion_matrix(y_true, y_pred)\n",
    "\n",
    "def plot_confusion_matrix(cm, class_names=class_names):\n",
    "    # Plot confusion matrix in a beautiful manner\n",
    "    fig = plt.figure(figsize=(15, 8))\n",
    "    ax= plt.subplot()\n",
    "    sns.heatmap(cm, annot=True, ax = ax, fmt = 'g'); #annot=True to annotate cells\n",
    "    # labels, title and ticks\n",
    "    ax.set_xlabel('\\nPredicted', fontsize=20)\n",
    "    ax.xaxis.set_label_position('bottom')\n",
    "    plt.xticks(rotation=90)\n",
    "    ax.xaxis.set_ticklabels(class_names, fontsize = 10)\n",
    "    ax.xaxis.tick_bottom()\n",
    "\n",
    "    ax.set_ylabel('True\\n', fontsize=20)\n",
    "    ax.yaxis.set_ticklabels(class_names, fontsize = 10)\n",
    "    plt.yticks(rotation=0)\n",
    "\n",
    "    plt.title('Confusion Matrix\\n', fontsize=20)\n",
    "    plt.show()\n",
    "\n",
    "plot_confusion_matrix(cm)\n",
    "\n",
    "print(\"Test Accuracy: \",accuracy_score(y_true, y_pred))\n",
    "print(\"Test Precision: \",precision_score(y_true, y_pred, average='weighted')) \n",
    "print(\"Test Recall: \",recall_score(y_true, y_pred, average='weighted')) \n",
    "print(\"Test F1-Score: \",f1_score(y_true, y_pred, average='weighted')) "
   ]
  },
  {
   "cell_type": "code",
   "execution_count": null,
   "id": "b2c4f96a",
   "metadata": {},
   "outputs": [],
   "source": []
  }
 ],
 "metadata": {
  "kernelspec": {
   "display_name": "Python 3 (ipykernel)",
   "language": "python",
   "name": "python3"
  },
  "language_info": {
   "codemirror_mode": {
    "name": "ipython",
    "version": 3
   },
   "file_extension": ".py",
   "mimetype": "text/x-python",
   "name": "python",
   "nbconvert_exporter": "python",
   "pygments_lexer": "ipython3",
   "version": "3.9.7"
  }
 },
 "nbformat": 4,
 "nbformat_minor": 5
}
